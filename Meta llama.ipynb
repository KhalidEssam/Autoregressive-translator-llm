{
 "cells": [
  {
   "cell_type": "code",
   "execution_count": null,
   "metadata": {},
   "outputs": [],
   "source": []
  },
  {
   "cell_type": "code",
   "execution_count": 2,
   "metadata": {},
   "outputs": [
    {
     "data": {
      "application/vnd.jupyter.widget-view+json": {
       "model_id": "d2117d66249f4922a89faabb4e4eafa7",
       "version_major": 2,
       "version_minor": 0
      },
      "text/plain": [
       "config.json:   0%|          | 0.00/654 [00:00<?, ?B/s]"
      ]
     },
     "metadata": {},
     "output_type": "display_data"
    },
    {
     "name": "stderr",
     "output_type": "stream",
     "text": [
      "c:\\Users\\PC\\AppData\\Local\\Programs\\Python\\Python310\\lib\\site-packages\\huggingface_hub\\file_download.py:142: UserWarning: `huggingface_hub` cache-system uses symlinks by default to efficiently store duplicated files but your machine does not support them in C:\\Users\\PC\\.cache\\huggingface\\hub\\models--meta-llama--Meta-Llama-3-8B. Caching files will still work but in a degraded version that might require more space on your disk. This warning can be disabled by setting the `HF_HUB_DISABLE_SYMLINKS_WARNING` environment variable. For more details, see https://huggingface.co/docs/huggingface_hub/how-to-cache#limitations.\n",
      "To support symlinks on Windows, you either need to activate Developer Mode or to run Python as an administrator. In order to activate developer mode, see this article: https://docs.microsoft.com/en-us/windows/apps/get-started/enable-your-device-for-development\n",
      "  warnings.warn(message)\n"
     ]
    },
    {
     "data": {
      "application/vnd.jupyter.widget-view+json": {
       "model_id": "3f0c3c319ed846eab0b8658b39e90f66",
       "version_major": 2,
       "version_minor": 0
      },
      "text/plain": [
       "model.safetensors.index.json:   0%|          | 0.00/23.9k [00:00<?, ?B/s]"
      ]
     },
     "metadata": {},
     "output_type": "display_data"
    },
    {
     "data": {
      "application/vnd.jupyter.widget-view+json": {
       "model_id": "3e9a10632e9d4b99994e8fd978211c66",
       "version_major": 2,
       "version_minor": 0
      },
      "text/plain": [
       "Fetching 4 files:   0%|          | 0/4 [00:00<?, ?it/s]"
      ]
     },
     "metadata": {},
     "output_type": "display_data"
    },
    {
     "data": {
      "application/vnd.jupyter.widget-view+json": {
       "model_id": "6556d06e47484ef280f932a729744fc7",
       "version_major": 2,
       "version_minor": 0
      },
      "text/plain": [
       "model-00001-of-00004.safetensors:   0%|          | 0.00/4.98G [00:00<?, ?B/s]"
      ]
     },
     "metadata": {},
     "output_type": "display_data"
    },
    {
     "data": {
      "application/vnd.jupyter.widget-view+json": {
       "model_id": "01c57f60f7ed43bc9b4e88d1bcd52018",
       "version_major": 2,
       "version_minor": 0
      },
      "text/plain": [
       "model-00002-of-00004.safetensors:   0%|          | 0.00/5.00G [00:00<?, ?B/s]"
      ]
     },
     "metadata": {},
     "output_type": "display_data"
    },
    {
     "data": {
      "application/vnd.jupyter.widget-view+json": {
       "model_id": "2e6ce2ad6c494656ae2740a644772af3",
       "version_major": 2,
       "version_minor": 0
      },
      "text/plain": [
       "model-00003-of-00004.safetensors:   0%|          | 0.00/4.92G [00:00<?, ?B/s]"
      ]
     },
     "metadata": {},
     "output_type": "display_data"
    },
    {
     "data": {
      "application/vnd.jupyter.widget-view+json": {
       "model_id": "df18cca12adc4130969188f4d94ef4a6",
       "version_major": 2,
       "version_minor": 0
      },
      "text/plain": [
       "model-00004-of-00004.safetensors:   0%|          | 0.00/1.17G [00:00<?, ?B/s]"
      ]
     },
     "metadata": {},
     "output_type": "display_data"
    },
    {
     "data": {
      "application/vnd.jupyter.widget-view+json": {
       "model_id": "c337da414df64591b573a4fc68ef0596",
       "version_major": 2,
       "version_minor": 0
      },
      "text/plain": [
       "Loading checkpoint shards:   0%|          | 0/4 [00:00<?, ?it/s]"
      ]
     },
     "metadata": {},
     "output_type": "display_data"
    },
    {
     "data": {
      "application/vnd.jupyter.widget-view+json": {
       "model_id": "4016342f5023419a9983b220caf440f2",
       "version_major": 2,
       "version_minor": 0
      },
      "text/plain": [
       "generation_config.json:   0%|          | 0.00/177 [00:00<?, ?B/s]"
      ]
     },
     "metadata": {},
     "output_type": "display_data"
    },
    {
     "name": "stderr",
     "output_type": "stream",
     "text": [
      "Some parameters are on the meta device because they were offloaded to the cpu.\n"
     ]
    },
    {
     "data": {
      "application/vnd.jupyter.widget-view+json": {
       "model_id": "1ec5737ee195400d95b1a99f4dd4936d",
       "version_major": 2,
       "version_minor": 0
      },
      "text/plain": [
       "tokenizer_config.json:   0%|          | 0.00/50.6k [00:00<?, ?B/s]"
      ]
     },
     "metadata": {},
     "output_type": "display_data"
    },
    {
     "data": {
      "application/vnd.jupyter.widget-view+json": {
       "model_id": "cea78b3e39374bbb98e37549fdc16303",
       "version_major": 2,
       "version_minor": 0
      },
      "text/plain": [
       "tokenizer.json:   0%|          | 0.00/9.09M [00:00<?, ?B/s]"
      ]
     },
     "metadata": {},
     "output_type": "display_data"
    },
    {
     "data": {
      "application/vnd.jupyter.widget-view+json": {
       "model_id": "f230d3e3215447c29bbe2bfa7ac0f0d5",
       "version_major": 2,
       "version_minor": 0
      },
      "text/plain": [
       "special_tokens_map.json:   0%|          | 0.00/73.0 [00:00<?, ?B/s]"
      ]
     },
     "metadata": {},
     "output_type": "display_data"
    },
    {
     "name": "stderr",
     "output_type": "stream",
     "text": [
      "Device set to use cuda:0\n",
      "Setting `pad_token_id` to `eos_token_id`:128001 for open-end generation.\n"
     ]
    },
    {
     "data": {
      "text/plain": [
       "[{'generated_text': 'Hey how are you doing today? Hope you are having a great day. Today I am sharing with you the new releases from My Favorite Things. I love the new releases this month, and I am super excited to share them with you. I made a card using the new Happy Birthday to You Stamp Set and the new Happy Birthday to You Die-namics. I also used the new Birthday Balloon Die-namics.\\nI started off by stamping the cake and the balloons onto a piece of white cardstock using Memento Tuxedo Black Ink. I colored the image in using Copic Markers. I then cut the image out using the coordinating dies. I then cut the Happy Birthday to You Die-namics out of black cardstock and the Birthday Balloon Die-namics out of white cardstock. I then adhered all the pieces together using foam tape. I then adhered the image to a card base.\\nI hope you enjoyed my card. Make sure to stop by the MFT Blog to see what the other designers have created.\\nHey how are you doing today? Hope you are having a great day. Today I am sharing with you a card I made using the new Stitched Snowflake Die-namics from My Favorite Things. I love the new snowflake die, and I am super excited to share it with you.\\nI started off by die cutting the snowflake out of white cardstock using the Stitched Snowflake Die-namics. I then die cut the snowflake out of white glitter paper using the Stitched Snowflake Die-namics. I then adhered the glitter snowflake to the white cardstock snowflake. I then adhered the snowflake to a card base. I then stamped the sentiment onto a piece of black cardstock using Versamark Ink. I then heat embossed the sentiment using white embossing powder. I then adhered the sentiment to the card base.\\nI hope you enjoyed my card. Make sure to stop by the MFT Blog to see what the other designers have created.\\nHey how are you doing today? Hope you are having a great day. Today I am sharing with you a card I made using the new Love You More Die-namics from My Favorite Things. I love the new die, and I am super excited to share it with you.\\nI started off by die cutting the Love You More Die-namics out of white cardstock. I then die cut the Love You More Die-namics out of white glitter paper. I then adhered the glitter Love You More Die-namics to the white Love You More Die-namics. I then adhered the Love You More Die-namics to a card base. I then stamped the sentiment onto a piece of black cardstock using Versamark Ink. I then heat embossed the sentiment using white embossing powder. I then adhered the sentiment to the card base.\\nI hope you enjoyed my card. Make sure to stop by the MFT Blog to see what the other designers have created.\\nHey how are you doing today? Hope you are having a great day. Today I am sharing with you a card I made using the new Stitched Snowflake Die-namics from My Favorite Things. I love the new snowflake die, and I am super excited to share it with you.\\nI started off by die cutting the snowflake out of white cardstock using the Stitched Snowflake Die-namics. I then die cut the snowflake out of white glitter paper using the Stitched Snowflake Die-namics. I then adhered the glitter snowflake to the white cardstock snowflake. I then adhered the snowflake to a card base. I then stamped the sentiment onto a piece of black cardstock using Versamark Ink. I then heat embossed the sentiment using white embossing powder. I then adhered the sentiment to the card base.\\nI hope you enjoyed my card. Make sure to stop by the MFT Blog to see what the other designers have created.\\nHey how are you doing today? Hope you are having a great day. Today I am sharing with you a card I made using the new Stitched Snowflake Die-namics from My Favorite Things. I love the new snowflake die, and I am super excited to share it with you.\\nI started off by die cutting the snowflake out of white cardstock using the Stitched Snowflake Die-namics. I then die cut the snowflake out of white glitter paper using the Stitched Snowflake Die-namics. I then adhered the glitter snowflake to the white cardstock snowflake. I then adhered the snowflake to a card base. I then stamped the sentiment onto a piece of black cardstock using Versamark Ink. I then heat embossed the sentiment using white embossing powder. I then adhered the sentiment to the card base.\\nI hope you enjoyed my card. Make sure to stop by the MFT Blog to see what the other designers have created.\\nHey how are you doing today? Hope you are having a great day. Today I am sharing with you a card I made using the new Stitched Snowflake Die-namics from My Favorite Things. I love the new snowflake die, and I am super excited to share it with you.\\nI started off by die cutting the snowflake out of white cardstock using the Stitched Snowflake Die-namics. I then die cut the snowflake out of white glitter paper using the Stitched Snowflake Die-namics. I then adhered the glitter snowflake to the white cardstock snowflake. I then adhered the snowflake to a card base. I then stamped the sentiment onto a piece of black cardstock using Versamark Ink. I then heat embossed the sentiment using white embossing powder. I then adhered the sentiment to the card base.\\nI hope you enjoyed my card. Make sure to stop by the MFT Blog to see what the other designers have created.\\nHey how are you doing today? Hope you are having a great day. Today I am sharing with you a card I made using the new Stitched Snowflake Die-namics from My Favorite Things. I love the new snowflake die, and I am super excited to share it with you.\\nI started off by die cutting the snowflake out of white cardstock using the Stitched Snowflake Die-namics. I then die cut the snowflake out of white glitter paper using the Stitched Snowflake Die-namics. I then adhered the glitter snowflake to the white cardstock snowflake. I then adhered the snowflake to a card base. I then stamped the sentiment onto a piece of black cardstock using Versamark Ink. I then heat embossed the sentiment using white embossing powder. I then adhered the sentiment to the card base.\\nI hope you enjoyed my card. Make sure to stop by the MFT Blog to see what the other designers have created.'}]"
      ]
     },
     "execution_count": 2,
     "metadata": {},
     "output_type": "execute_result"
    }
   ],
   "source": [
    "import transformers\n",
    "import torch\n",
    "\n",
    "model_id = \"meta-llama/Meta-Llama-3-8B\"\n",
    "\n",
    "pipeline = transformers.pipeline(\n",
    "    \"text-generation\", model=model_id, model_kwargs={\"torch_dtype\": torch.bfloat16}, device_map=\"auto\"\n",
    ")\n",
    "pipeline(\"Hey how are you doing today?\")\n"
   ]
  },
  {
   "cell_type": "code",
   "execution_count": 3,
   "metadata": {},
   "outputs": [
    {
     "name": "stderr",
     "output_type": "stream",
     "text": [
      "Setting `pad_token_id` to `eos_token_id`:128001 for open-end generation.\n",
      "Setting `pad_token_id` to `eos_token_id`:128001 for open-end generation.\n"
     ]
    },
    {
     "data": {
      "text/plain": [
       "[{'generated_text': 'which tech company is the most influential ??\\nTech giant Microsoft has been named the most influential tech company in the world, according to a new report by the Center for International Governance Innovation (CIGI). The report, which was released on Monday, found that Microsoft was the most influential tech company in the world in terms of its ability to shape the global economy, politics, and society.\\nMicrosoft was followed by Apple, Google, Amazon, and Facebook in the report. The report also found that the top five tech companies accounted for nearly half of all tech-related venture capital investment in 2017. The report noted that the top five tech companies were all based in the United States, and that the United States was the largest market for tech investment in the world.\\nThe report also found that the top five tech companies were all based in the United States, and that the United States was the largest market for tech investment in the world.\\nThe report also found that the top five tech companies were all based in the United States, and that the United States was the largest market for tech investment in the world. The report also found that the top five tech companies were all based in the United States, and that the United States was the largest market for tech investment in the world.\\nThe report also found that the top five tech companies were all based in the United States, and that the United States was the largest market for tech investment in the world. The report also found that the top five tech companies were all based in the United States, and that the United States was the largest market for tech investment in the world.\\nThe report also found that the top five tech companies were all based in the United States, and that the United States was the largest market for tech investment in the world. The report also found that the top five tech companies were all based in the United States, and that the United States was the largest market for tech investment in the world.\\nThe report also found that the top five tech companies were all based in the United States, and that the United States was the largest market for tech investment in the world. The report also found that the top five tech companies were all based in the United States, and that the United States was the largest market for tech investment in the world.\\nThe report also found that the top five tech companies were all based in the United States, and that the United States was the largest market for tech investment in the world. The report also found that the top five tech companies were all based in the United States, and that the United States was the largest market for tech investment in the world.'}]"
      ]
     },
     "execution_count": 3,
     "metadata": {},
     "output_type": "execute_result"
    }
   ],
   "source": [
    "pipeline(\"which is the capital of india?\")\n",
    "pipeline(\"which tech company is the most influential ?\")"
   ]
  },
  {
   "cell_type": "code",
   "execution_count": 4,
   "metadata": {},
   "outputs": [
    {
     "name": "stderr",
     "output_type": "stream",
     "text": [
      "Setting `pad_token_id` to `eos_token_id`:128001 for open-end generation.\n"
     ]
    },
    {
     "data": {
      "text/plain": [
       "[{'generated_text': \"which is the capital of india? a. delhi b. hyderabad c. mumbai d. kolkata\\nThe capital of India is New Delhi. The seat of the executive, legislative, and judicial branches of government is located in New Delhi. The President of India lives in the Rashtrapati Bhavan, and the Parliament House is where the country's lawmakers meet. The Supreme Court of India is also in New Delhi. The city of Delhi, which includes New Delhi, is one of the largest cities in India.\"}]"
      ]
     },
     "execution_count": 4,
     "metadata": {},
     "output_type": "execute_result"
    }
   ],
   "source": [
    "pipeline(\"which is the capital of india?\")"
   ]
  },
  {
   "cell_type": "code",
   "execution_count": 5,
   "metadata": {},
   "outputs": [
    {
     "name": "stderr",
     "output_type": "stream",
     "text": [
      "Setting `pad_token_id` to `eos_token_id`:128001 for open-end generation.\n"
     ]
    },
    {
     "data": {
      "text/plain": [
       "[{'generated_text': 'Which is the capital of India? New Delhi\\nWhich is the capital of Jammu and Kashmir? Srinagar\\nWhich is the capital of Maharashtra? Mumbai\\nWhich is the capital of Manipur? Imphal\\nWhich is the capital of Meghalaya? Shillong'}]"
      ]
     },
     "execution_count": 5,
     "metadata": {},
     "output_type": "execute_result"
    }
   ],
   "source": [
    "pipeline(\"Which is the capital of India?\", max_new_tokens=50)\n"
   ]
  }
 ],
 "metadata": {
  "kernelspec": {
   "display_name": "Python 3",
   "language": "python",
   "name": "python3"
  },
  "language_info": {
   "codemirror_mode": {
    "name": "ipython",
    "version": 3
   },
   "file_extension": ".py",
   "mimetype": "text/x-python",
   "name": "python",
   "nbconvert_exporter": "python",
   "pygments_lexer": "ipython3",
   "version": "3.10.0"
  }
 },
 "nbformat": 4,
 "nbformat_minor": 2
}
