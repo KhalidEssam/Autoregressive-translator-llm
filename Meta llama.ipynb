{
 "cells": [
  {
   "cell_type": "code",
   "execution_count": null,
   "metadata": {},
   "outputs": [],
   "source": []
  },
  {
   "cell_type": "code",
   "execution_count": 1,
   "metadata": {},
   "outputs": [
    {
     "data": {
      "application/vnd.jupyter.widget-view+json": {
       "model_id": "665fe4d10d2645a2b0fe84e13460715c",
       "version_major": 2,
       "version_minor": 0
      },
      "text/plain": [
       "Loading checkpoint shards:   0%|          | 0/4 [00:00<?, ?it/s]"
      ]
     },
     "metadata": {},
     "output_type": "display_data"
    },
    {
     "name": "stderr",
     "output_type": "stream",
     "text": [
      "Some parameters are on the meta device because they were offloaded to the cpu.\n",
      "Device set to use cuda:0\n"
     ]
    }
   ],
   "source": [
    "import transformers\n",
    "import torch\n",
    "\n",
    "model_id = \"meta-llama/Meta-Llama-3-8B\"\n",
    "\n",
    "pipeline = transformers.pipeline(\n",
    "    \"text-generation\", model=model_id, model_kwargs={\"torch_dtype\": torch.bfloat16}, device_map=\"auto\"\n",
    ")\n",
    "# pipeline(\"Hey how are you doing today?\")\n"
   ]
  },
  {
   "cell_type": "code",
   "execution_count": null,
   "metadata": {},
   "outputs": [
    {
     "name": "stderr",
     "output_type": "stream",
     "text": [
      "Setting `pad_token_id` to `eos_token_id`:128001 for open-end generation.\n",
      "Setting `pad_token_id` to `eos_token_id`:128001 for open-end generation.\n"
     ]
    },
    {
     "data": {
      "text/plain": [
       "[{'generated_text': 'which tech company is the most influential ??\\nTech giant Microsoft has been named the most influential tech company in the world, according to a new report by the Center for International Governance Innovation (CIGI). The report, which was released on Monday, found that Microsoft was the most influential tech company in the world in terms of its ability to shape the global economy, politics, and society.\\nMicrosoft was followed by Apple, Google, Amazon, and Facebook in the report. The report also found that the top five tech companies accounted for nearly half of all tech-related venture capital investment in 2017. The report noted that the top five tech companies were all based in the United States, and that the United States was the largest market for tech investment in the world.\\nThe report also found that the top five tech companies were all based in the United States, and that the United States was the largest market for tech investment in the world.\\nThe report also found that the top five tech companies were all based in the United States, and that the United States was the largest market for tech investment in the world. The report also found that the top five tech companies were all based in the United States, and that the United States was the largest market for tech investment in the world.\\nThe report also found that the top five tech companies were all based in the United States, and that the United States was the largest market for tech investment in the world. The report also found that the top five tech companies were all based in the United States, and that the United States was the largest market for tech investment in the world.\\nThe report also found that the top five tech companies were all based in the United States, and that the United States was the largest market for tech investment in the world. The report also found that the top five tech companies were all based in the United States, and that the United States was the largest market for tech investment in the world.\\nThe report also found that the top five tech companies were all based in the United States, and that the United States was the largest market for tech investment in the world. The report also found that the top five tech companies were all based in the United States, and that the United States was the largest market for tech investment in the world.\\nThe report also found that the top five tech companies were all based in the United States, and that the United States was the largest market for tech investment in the world. The report also found that the top five tech companies were all based in the United States, and that the United States was the largest market for tech investment in the world.'}]"
      ]
     },
     "execution_count": 3,
     "metadata": {},
     "output_type": "execute_result"
    }
   ],
   "source": [
    "pipeline(\"which is the capital of india?\")\n",
    "pipeline(\"which tech company is the most influential ?\")"
   ]
  },
  {
   "cell_type": "code",
   "execution_count": null,
   "metadata": {},
   "outputs": [
    {
     "name": "stderr",
     "output_type": "stream",
     "text": [
      "Setting `pad_token_id` to `eos_token_id`:128001 for open-end generation.\n"
     ]
    },
    {
     "data": {
      "text/plain": [
       "[{'generated_text': \"which is the capital of india? a. delhi b. hyderabad c. mumbai d. kolkata\\nThe capital of India is New Delhi. The seat of the executive, legislative, and judicial branches of government is located in New Delhi. The President of India lives in the Rashtrapati Bhavan, and the Parliament House is where the country's lawmakers meet. The Supreme Court of India is also in New Delhi. The city of Delhi, which includes New Delhi, is one of the largest cities in India.\"}]"
      ]
     },
     "execution_count": 4,
     "metadata": {},
     "output_type": "execute_result"
    }
   ],
   "source": [
    "pipeline(\"which is the capital of india?\")"
   ]
  },
  {
   "cell_type": "code",
   "execution_count": 2,
   "metadata": {},
   "outputs": [
    {
     "name": "stderr",
     "output_type": "stream",
     "text": [
      "Setting `pad_token_id` to `eos_token_id`:128001 for open-end generation.\n"
     ]
    },
    {
     "data": {
      "text/plain": [
       "[{'generated_text': 'Which is the capital of India? The capital of India is Delhi. It is located in the north of India. Delhi is the largest commercial city of India. It is a famous tourist place. There are many historical monuments in Delhi.'}]"
      ]
     },
     "execution_count": 2,
     "metadata": {},
     "output_type": "execute_result"
    }
   ],
   "source": [
    "pipeline(\"Which is the capital of India?\", max_new_tokens=40)\n"
   ]
  },
  {
   "cell_type": "code",
   "execution_count": 3,
   "metadata": {},
   "outputs": [
    {
     "name": "stderr",
     "output_type": "stream",
     "text": [
      "Setting `pad_token_id` to `eos_token_id`:128001 for open-end generation.\n"
     ]
    },
    {
     "data": {
      "text/plain": [
       "[{'generated_text': 'هل تعرف اللغة العربية ؟\\nAre you looking for a new challenge in your career?\\nAre you looking for a new challenge in your career?\\nAre you looking for a new challenge in your career?\\nAre you looking for a new'}]"
      ]
     },
     "execution_count": 3,
     "metadata": {},
     "output_type": "execute_result"
    }
   ],
   "source": [
    "pipeline(\"هل تعرف اللغة العربية ؟\", max_new_tokens=40)\n"
   ]
  }
 ],
 "metadata": {
  "kernelspec": {
   "display_name": "Python 3",
   "language": "python",
   "name": "python3"
  },
  "language_info": {
   "codemirror_mode": {
    "name": "ipython",
    "version": 3
   },
   "file_extension": ".py",
   "mimetype": "text/x-python",
   "name": "python",
   "nbconvert_exporter": "python",
   "pygments_lexer": "ipython3",
   "version": "3.10.0"
  }
 },
 "nbformat": 4,
 "nbformat_minor": 2
}
