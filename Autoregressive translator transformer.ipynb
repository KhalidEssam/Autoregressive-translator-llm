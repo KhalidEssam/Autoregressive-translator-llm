{
 "cells": [
  {
   "cell_type": "code",
   "execution_count": 3,
   "metadata": {},
   "outputs": [
    {
     "name": "stdout",
     "output_type": "stream",
     "text": [
      "2.6.0+cu118\n",
      "11.8\n",
      "True\n",
      "1\n",
      "NVIDIA GeForce RTX 3070 Ti\n",
      "11.8\n",
      "90100\n"
     ]
    }
   ],
   "source": [
    "import torch\n",
    "print(torch.__version__)  # Should show a version like 2.x.x\n",
    "print(torch.version.cuda)  # Should match your CUDA version, like 12.8\n",
    "print(torch.cuda.is_available())  # Should return True\n",
    "print(torch.cuda.device_count())  # Should return at least 1\n",
    "print(torch.cuda.get_device_name(0))  # Should show RTX 3070 Ti\n",
    "print(torch.version.cuda)  # Check installed CUDA version\n",
    "print(torch.backends.cudnn.version())  # Check cuDNN version\n"
   ]
  },
  {
   "cell_type": "code",
   "execution_count": null,
   "metadata": {},
   "outputs": [],
   "source": [
    "from transformers import AutoModelForCausalLM, AutoTokenizer, BitsAndBytesConfig\n",
    "from peft import LoraConfig, get_peft_model\n",
    "from datasets import load_dataset\n"
   ]
  },
  {
   "cell_type": "code",
   "execution_count": 5,
   "metadata": {},
   "outputs": [
    {
     "data": {
      "application/vnd.jupyter.widget-view+json": {
       "model_id": "542de8d5c56647c5b41ef8970c9cce09",
       "version_major": 2,
       "version_minor": 0
      },
      "text/plain": [
       "Loading checkpoint shards:   0%|          | 0/2 [00:00<?, ?it/s]"
      ]
     },
     "metadata": {},
     "output_type": "display_data"
    },
    {
     "name": "stdout",
     "output_type": "stream",
     "text": [
      "Model and tokenizer loaded successfully.\n"
     ]
    }
   ],
   "source": [
    "model_name = \"mistralai/Mistral-7B-v0.1\"\n",
    "\n",
    "# Enable 4-bit quantization to reduce memory usage\n",
    "bnb_config = BitsAndBytesConfig(\n",
    "    load_in_4bit=True,\n",
    "    bnb_4bit_use_double_quant=True,\n",
    "    bnb_4bit_quant_type=\"nf4\",\n",
    "    bnb_4bit_compute_dtype=torch.float16\n",
    ")\n",
    "\n",
    "# Load model with quantization\n",
    "model = AutoModelForCausalLM.from_pretrained(\n",
    "    model_name, \n",
    "    quantization_config=bnb_config, \n",
    "    device_map=\"auto\"\n",
    ")\n",
    "\n",
    "# Load tokenizer\n",
    "tokenizer = AutoTokenizer.from_pretrained(model_name)\n",
    "\n",
    "print(\"Model and tokenizer loaded successfully.\")\n"
   ]
  },
  {
   "cell_type": "code",
   "execution_count": 6,
   "metadata": {},
   "outputs": [
    {
     "name": "stdout",
     "output_type": "stream",
     "text": [
      "{'id': '0', 'translation': {'en': 'The Wanderer', 'fr': 'Le grand Meaulnes'}, 'input': 'Translate: English → French\\nEnglish: The Wanderer\\nFrench:', 'target': 'Le grand Meaulnes'}\n"
     ]
    }
   ],
   "source": [
    "# Load English to French translation dataset\n",
    "dataset = load_dataset(\"opus_books\", \"en-fr\")\n",
    "\n",
    "# Function to preprocess dataset\n",
    "def format_data(example):\n",
    "    translation = example[\"translation\"]\n",
    "    return {\n",
    "        \"input\": f\"Translate: English → French\\nEnglish: {translation['en']}\\nFrench:\",\n",
    "        \"target\": translation[\"fr\"]\n",
    "    }\n",
    "\n",
    "train_data = dataset[\"train\"].map(format_data, batched=False)\n",
    "\n",
    "# Print first example\n",
    "print(train_data[0])\n"
   ]
  },
  {
   "cell_type": "code",
   "execution_count": 7,
   "metadata": {},
   "outputs": [
    {
     "name": "stdout",
     "output_type": "stream",
     "text": [
      "trainable params: 6,815,744 || all params: 7,248,547,840 || trainable%: 0.0940\n",
      "LoRA applied successfully.\n"
     ]
    }
   ],
   "source": [
    "# Define LoRA configuration\n",
    "lora_config = LoraConfig(\n",
    "    r=16,\n",
    "    lora_alpha=32,\n",
    "    target_modules=[\"q_proj\", \"v_proj\"],\n",
    "    lora_dropout=0.05,\n",
    "    bias=\"none\"\n",
    ")\n",
    "\n",
    "# Apply LoRA\n",
    "peft_model = get_peft_model(model, lora_config)\n",
    "peft_model.print_trainable_parameters()\n",
    "\n",
    "print(\"LoRA applied successfully.\")\n"
   ]
  },
  {
   "cell_type": "code",
   "execution_count": 8,
   "metadata": {},
   "outputs": [
    {
     "name": "stdout",
     "output_type": "stream",
     "text": [
      "Model moved to cuda successfully.\n"
     ]
    }
   ],
   "source": [
    "# Ensure CUDA is available\n",
    "device = \"cuda\" if torch.cuda.is_available() else \"cpu\"\n",
    "\n",
    "# Move model to device\n",
    "peft_model = peft_model.to(device)\n",
    "\n",
    "print(f\"Model moved to {device} successfully.\")\n"
   ]
  },
  {
   "cell_type": "code",
   "execution_count": 11,
   "metadata": {},
   "outputs": [
    {
     "name": "stderr",
     "output_type": "stream",
     "text": [
      "The attention mask and the pad token id were not set. As a consequence, you may observe unexpected behavior. Please pass your input's `attention_mask` to obtain reliable results.\n",
      "Setting `pad_token_id` to `eos_token_id`:2 for open-end generation.\n"
     ]
    },
    {
     "name": "stdout",
     "output_type": "stream",
     "text": [
      "Generated Translation: Translate: English → French\n",
      "English:  my name is khaled i am software engineer what about you ?\n",
      "French:  mon nom est khaled et je suis ingénieur logiciel et toi ?\n",
      "\n"
     ]
    }
   ],
   "source": [
    "sample_text = \"Translate: English → French\\nEnglish:  my name is khaled i am software engineer what about you ?\\nFrench:\"\n",
    "input_ids = tokenizer(sample_text, return_tensors=\"pt\").input_ids.to(device)\n",
    "\n",
    "# Generate text\n",
    "output_ids = peft_model.generate(input_ids, max_length=50)\n",
    "output_text = tokenizer.decode(output_ids[0], skip_special_tokens=True)\n",
    "\n",
    "print(\"Generated Translation:\", output_text)\n"
   ]
  },
  {
   "cell_type": "code",
   "execution_count": 16,
   "metadata": {},
   "outputs": [
    {
     "name": "stderr",
     "output_type": "stream",
     "text": [
      "The attention mask and the pad token id were not set. As a consequence, you may observe unexpected behavior. Please pass your input's `attention_mask` to obtain reliable results.\n",
      "Setting `pad_token_id` to `eos_token_id`:2 for open-end generation.\n"
     ]
    },
    {
     "name": "stdout",
     "output_type": "stream",
     "text": [
      "Generated Translation: Translate: French → English \n",
      "French:  Combien d’argent dois-je demander ?\\English: How much money should I ask for ?\n",
      "\n",
      "## How much money should I ask for ?\n",
      "\n",
      "\n"
     ]
    }
   ],
   "source": [
    "sample_text = \"Translate: French → English \\nFrench:  Combien d’argent dois-je demander ?\\English:\"\n",
    "input_ids = tokenizer(sample_text, return_tensors=\"pt\").input_ids.to(device)\n",
    "\n",
    "# Generate text\n",
    "output_ids = peft_model.generate(input_ids, max_length=50)\n",
    "output_text = tokenizer.decode(output_ids[0], skip_special_tokens=True)\n",
    "\n",
    "print(\"Generated Translation:\", output_text)"
   ]
  },
  {
   "cell_type": "code",
   "execution_count": 17,
   "metadata": {},
   "outputs": [
    {
     "data": {
      "text/plain": [
       "('saved_model\\\\tokenizer_config.json',\n",
       " 'saved_model\\\\special_tokens_map.json',\n",
       " 'saved_model\\\\tokenizer.model',\n",
       " 'saved_model\\\\added_tokens.json',\n",
       " 'saved_model\\\\tokenizer.json')"
      ]
     },
     "execution_count": 17,
     "metadata": {},
     "output_type": "execute_result"
    }
   ],
   "source": [
    "from transformers import AutoModelForCausalLM, AutoTokenizer\n",
    "\n",
    "model.save_pretrained(\"saved_model\")\n",
    "tokenizer.save_pretrained(\"saved_model\")"
   ]
  }
 ],
 "metadata": {
  "kernelspec": {
   "display_name": "Python 3",
   "language": "python",
   "name": "python3"
  },
  "language_info": {
   "codemirror_mode": {
    "name": "ipython",
    "version": 3
   },
   "file_extension": ".py",
   "mimetype": "text/x-python",
   "name": "python",
   "nbconvert_exporter": "python",
   "pygments_lexer": "ipython3",
   "version": "3.10.0"
  }
 },
 "nbformat": 4,
 "nbformat_minor": 2
}
